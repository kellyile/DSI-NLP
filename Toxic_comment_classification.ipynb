{
  "nbformat": 4,
  "nbformat_minor": 0,
  "metadata": {
    "colab": {
      "name": "Toxic comment classification.ipynb",
      "provenance": []
    },
    "kernelspec": {
      "name": "python3",
      "display_name": "Python 3"
    }
  },
  "cells": [
    {
      "cell_type": "code",
      "metadata": {
        "id": "nDuJ662OrZzd"
      },
      "source": [
        "import pandas as pd\n",
        "import matplotlib.pyplot as plt\n",
        "import seaborn as sns\n",
        "import numpy as np\n",
        "\n",
        "import csv\n",
        "import sqlite3"
      ],
      "execution_count": null,
      "outputs": []
    },
    {
      "cell_type": "code",
      "metadata": {
        "id": "FgV8Lvb9r3V4"
      },
      "source": [
        "con = sqlite3.connect(\"/content/drive/My Drive/Module 3 shared folder/toxic_comment.db\")\n",
        "\n",
        "cur = con.cursor()\n",
        "cur.execute(\"CREATE TABLE comment (my_id INTEGER PRIMARY KEY AUTOINCREMENT, id, comment_text,toxic INTEGER, severe_toxic INTEGER, obscene INTEGER, threat INTEGER, insult INTEGER, identity_hate INTEGER);\")\n",
        "\n",
        "with open('/content/drive/My Drive/Module 3 shared folder/train.csv.zip (Unzipped Files)/train.csv','r') as fin:\n",
        "    dr = csv.DictReader(fin) # comma is default delimiter\n",
        "    to_db = [(i['id'], i['comment_text'], i['toxic'],i['severe_toxic'], i['obscene'], i['threat'],i['insult'], i['identity_hate']) for i in dr]\n",
        "\n",
        "cur.executemany(\"INSERT INTO comment (id, comment_text, toxic, severe_toxic, obscene, threat, insult, identity_hate) VALUES (?,?,?,?,?,?,?,?);\", to_db)\n",
        "con.commit()\n",
        "con.close()"
      ],
      "execution_count": null,
      "outputs": []
    },
    {
      "cell_type": "code",
      "metadata": {
        "id": "DvKHlg9ughJ4",
        "outputId": "587c1110-3832-4ac8-b2bd-cab83e1b699d",
        "colab": {
          "base_uri": "https://localhost:8080/"
        }
      },
      "source": [
        "conn = sqlite3.connect(\"/content/drive/My Drive/Module 3 shared folder/toxic_comment.db\")\n",
        "cur = conn.cursor()\n",
        "\n",
        "cur.execute(\"SELECT * FROM comment WHERE my_id = \" + str(34274))\n",
        "a = cur.fetchone()\n",
        "print(a)\n",
        "conn.close()"
      ],
      "execution_count": null,
      "outputs": [
        {
          "output_type": "stream",
          "text": [
            "(34274, '5b7e916c82404013', 'Could you please put it all back for me?   04:18, 17 Jun 2005 (UTC)', 0, 0, 0, 0, 0, 0)\n"
          ],
          "name": "stdout"
        }
      ]
    },
    {
      "cell_type": "code",
      "metadata": {
        "id": "1aCIcf_2kdfs",
        "outputId": "9a0f16e8-4660-431a-8d8a-6df476a8c023",
        "colab": {
          "base_uri": "https://localhost:8080/"
        }
      },
      "source": [
        "conn = sqlite3.connect(\"/content/drive/My Drive/Module 3 shared folder/toxic_comment.db\")\n",
        "cur = conn.cursor()\n",
        "cur.execute(\"SELECT *, (toxic | severe_toxic | obscene | threat | insult | identity_hate) AS toxicity FROM comment;\")\n",
        "print(cur.fetchone())\n",
        "conn.close()"
      ],
      "execution_count": null,
      "outputs": [
        {
          "output_type": "stream",
          "text": [
            "(1, '0000997932d777bf', \"Explanation\\nWhy the edits made under my username Hardcore Metallica Fan were reverted? They weren't vandalisms, just closure on some GAs after I voted at New York Dolls FAC. And please don't remove the template from the talk page since I'm retired now.89.205.38.27\", 0, 0, 0, 0, 0, 0, 0)\n"
          ],
          "name": "stdout"
        }
      ]
    },
    {
      "cell_type": "code",
      "metadata": {
        "id": "c4iLiGtaZVye"
      },
      "source": [
        ""
      ],
      "execution_count": null,
      "outputs": []
    }
  ]
}