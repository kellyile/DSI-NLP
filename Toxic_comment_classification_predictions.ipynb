{
  "nbformat": 4,
  "nbformat_minor": 0,
  "metadata": {
    "colab": {
      "name": "Toxic comment classification predictions.ipynb",
      "provenance": [],
      "collapsed_sections": [],
      "toc_visible": true
    },
    "kernelspec": {
      "name": "python3",
      "display_name": "Python 3"
    },
    "widgets": {
      "application/vnd.jupyter.widget-state+json": {
        "6ae06363487f4cf880be02cb0bb5825c": {
          "model_module": "@jupyter-widgets/controls",
          "model_name": "HBoxModel",
          "state": {
            "_view_name": "HBoxView",
            "_dom_classes": [],
            "_model_name": "HBoxModel",
            "_view_module": "@jupyter-widgets/controls",
            "_model_module_version": "1.5.0",
            "_view_count": null,
            "_view_module_version": "1.5.0",
            "box_style": "",
            "layout": "IPY_MODEL_3c4acc6329d242c69dcfb729679551b4",
            "_model_module": "@jupyter-widgets/controls",
            "children": [
              "IPY_MODEL_aa2e399957cd4dafb8c8d29886dc63bb",
              "IPY_MODEL_d93996c278f142298fade2ab294f16b3"
            ]
          }
        },
        "3c4acc6329d242c69dcfb729679551b4": {
          "model_module": "@jupyter-widgets/base",
          "model_name": "LayoutModel",
          "state": {
            "_view_name": "LayoutView",
            "grid_template_rows": null,
            "right": null,
            "justify_content": null,
            "_view_module": "@jupyter-widgets/base",
            "overflow": null,
            "_model_module_version": "1.2.0",
            "_view_count": null,
            "flex_flow": null,
            "width": null,
            "min_width": null,
            "border": null,
            "align_items": null,
            "bottom": null,
            "_model_module": "@jupyter-widgets/base",
            "top": null,
            "grid_column": null,
            "overflow_y": null,
            "overflow_x": null,
            "grid_auto_flow": null,
            "grid_area": null,
            "grid_template_columns": null,
            "flex": null,
            "_model_name": "LayoutModel",
            "justify_items": null,
            "grid_row": null,
            "max_height": null,
            "align_content": null,
            "visibility": null,
            "align_self": null,
            "height": null,
            "min_height": null,
            "padding": null,
            "grid_auto_rows": null,
            "grid_gap": null,
            "max_width": null,
            "order": null,
            "_view_module_version": "1.2.0",
            "grid_template_areas": null,
            "object_position": null,
            "object_fit": null,
            "grid_auto_columns": null,
            "margin": null,
            "display": null,
            "left": null
          }
        },
        "aa2e399957cd4dafb8c8d29886dc63bb": {
          "model_module": "@jupyter-widgets/controls",
          "model_name": "FloatProgressModel",
          "state": {
            "_view_name": "ProgressView",
            "style": "IPY_MODEL_0017232c14324731895c6f26b720dacf",
            "_dom_classes": [],
            "description": "Downloading: 100%",
            "_model_name": "FloatProgressModel",
            "bar_style": "success",
            "max": 213450,
            "_view_module": "@jupyter-widgets/controls",
            "_model_module_version": "1.5.0",
            "value": 213450,
            "_view_count": null,
            "_view_module_version": "1.5.0",
            "orientation": "horizontal",
            "min": 0,
            "description_tooltip": null,
            "_model_module": "@jupyter-widgets/controls",
            "layout": "IPY_MODEL_5961464de6904c06bd70eed3125cd9ea"
          }
        },
        "d93996c278f142298fade2ab294f16b3": {
          "model_module": "@jupyter-widgets/controls",
          "model_name": "HTMLModel",
          "state": {
            "_view_name": "HTMLView",
            "style": "IPY_MODEL_371de2cad569437f9c1b17639db76f27",
            "_dom_classes": [],
            "description": "",
            "_model_name": "HTMLModel",
            "placeholder": "​",
            "_view_module": "@jupyter-widgets/controls",
            "_model_module_version": "1.5.0",
            "value": " 213k/213k [00:00&lt;00:00, 614kB/s]",
            "_view_count": null,
            "_view_module_version": "1.5.0",
            "description_tooltip": null,
            "_model_module": "@jupyter-widgets/controls",
            "layout": "IPY_MODEL_037b003c90ff49fbaacf978f2e429fe8"
          }
        },
        "0017232c14324731895c6f26b720dacf": {
          "model_module": "@jupyter-widgets/controls",
          "model_name": "ProgressStyleModel",
          "state": {
            "_view_name": "StyleView",
            "_model_name": "ProgressStyleModel",
            "description_width": "initial",
            "_view_module": "@jupyter-widgets/base",
            "_model_module_version": "1.5.0",
            "_view_count": null,
            "_view_module_version": "1.2.0",
            "bar_color": null,
            "_model_module": "@jupyter-widgets/controls"
          }
        },
        "5961464de6904c06bd70eed3125cd9ea": {
          "model_module": "@jupyter-widgets/base",
          "model_name": "LayoutModel",
          "state": {
            "_view_name": "LayoutView",
            "grid_template_rows": null,
            "right": null,
            "justify_content": null,
            "_view_module": "@jupyter-widgets/base",
            "overflow": null,
            "_model_module_version": "1.2.0",
            "_view_count": null,
            "flex_flow": null,
            "width": null,
            "min_width": null,
            "border": null,
            "align_items": null,
            "bottom": null,
            "_model_module": "@jupyter-widgets/base",
            "top": null,
            "grid_column": null,
            "overflow_y": null,
            "overflow_x": null,
            "grid_auto_flow": null,
            "grid_area": null,
            "grid_template_columns": null,
            "flex": null,
            "_model_name": "LayoutModel",
            "justify_items": null,
            "grid_row": null,
            "max_height": null,
            "align_content": null,
            "visibility": null,
            "align_self": null,
            "height": null,
            "min_height": null,
            "padding": null,
            "grid_auto_rows": null,
            "grid_gap": null,
            "max_width": null,
            "order": null,
            "_view_module_version": "1.2.0",
            "grid_template_areas": null,
            "object_position": null,
            "object_fit": null,
            "grid_auto_columns": null,
            "margin": null,
            "display": null,
            "left": null
          }
        },
        "371de2cad569437f9c1b17639db76f27": {
          "model_module": "@jupyter-widgets/controls",
          "model_name": "DescriptionStyleModel",
          "state": {
            "_view_name": "StyleView",
            "_model_name": "DescriptionStyleModel",
            "description_width": "",
            "_view_module": "@jupyter-widgets/base",
            "_model_module_version": "1.5.0",
            "_view_count": null,
            "_view_module_version": "1.2.0",
            "_model_module": "@jupyter-widgets/controls"
          }
        },
        "037b003c90ff49fbaacf978f2e429fe8": {
          "model_module": "@jupyter-widgets/base",
          "model_name": "LayoutModel",
          "state": {
            "_view_name": "LayoutView",
            "grid_template_rows": null,
            "right": null,
            "justify_content": null,
            "_view_module": "@jupyter-widgets/base",
            "overflow": null,
            "_model_module_version": "1.2.0",
            "_view_count": null,
            "flex_flow": null,
            "width": null,
            "min_width": null,
            "border": null,
            "align_items": null,
            "bottom": null,
            "_model_module": "@jupyter-widgets/base",
            "top": null,
            "grid_column": null,
            "overflow_y": null,
            "overflow_x": null,
            "grid_auto_flow": null,
            "grid_area": null,
            "grid_template_columns": null,
            "flex": null,
            "_model_name": "LayoutModel",
            "justify_items": null,
            "grid_row": null,
            "max_height": null,
            "align_content": null,
            "visibility": null,
            "align_self": null,
            "height": null,
            "min_height": null,
            "padding": null,
            "grid_auto_rows": null,
            "grid_gap": null,
            "max_width": null,
            "order": null,
            "_view_module_version": "1.2.0",
            "grid_template_areas": null,
            "object_position": null,
            "object_fit": null,
            "grid_auto_columns": null,
            "margin": null,
            "display": null,
            "left": null
          }
        }
      }
    }
  },
  "cells": [
    {
      "cell_type": "code",
      "metadata": {
        "id": "Ln7X4rygDA8J",
        "outputId": "abf6f747-c18b-431d-cea8-c970143fb090",
        "colab": {
          "base_uri": "https://localhost:8080/"
        }
      },
      "source": [
        "! pip install transformers"
      ],
      "execution_count": null,
      "outputs": [
        {
          "output_type": "stream",
          "text": [
            "Collecting transformers\n",
            "\u001b[?25l  Downloading https://files.pythonhosted.org/packages/9c/34/fb092588df61bf33f113ade030d1cbe74fb73a0353648f8dd938a223dce7/transformers-3.5.0-py3-none-any.whl (1.3MB)\n",
            "\r\u001b[K     |▎                               | 10kB 17.7MB/s eta 0:00:01\r\u001b[K     |▌                               | 20kB 7.4MB/s eta 0:00:01\r\u001b[K     |▊                               | 30kB 8.2MB/s eta 0:00:01\r\u001b[K     |█                               | 40kB 8.9MB/s eta 0:00:01\r\u001b[K     |█▎                              | 51kB 7.8MB/s eta 0:00:01\r\u001b[K     |█▌                              | 61kB 9.0MB/s eta 0:00:01\r\u001b[K     |█▊                              | 71kB 9.1MB/s eta 0:00:01\r\u001b[K     |██                              | 81kB 9.4MB/s eta 0:00:01\r\u001b[K     |██▎                             | 92kB 8.8MB/s eta 0:00:01\r\u001b[K     |██▌                             | 102kB 9.4MB/s eta 0:00:01\r\u001b[K     |██▊                             | 112kB 9.4MB/s eta 0:00:01\r\u001b[K     |███                             | 122kB 9.4MB/s eta 0:00:01\r\u001b[K     |███▎                            | 133kB 9.4MB/s eta 0:00:01\r\u001b[K     |███▌                            | 143kB 9.4MB/s eta 0:00:01\r\u001b[K     |███▉                            | 153kB 9.4MB/s eta 0:00:01\r\u001b[K     |████                            | 163kB 9.4MB/s eta 0:00:01\r\u001b[K     |████▎                           | 174kB 9.4MB/s eta 0:00:01\r\u001b[K     |████▌                           | 184kB 9.4MB/s eta 0:00:01\r\u001b[K     |████▉                           | 194kB 9.4MB/s eta 0:00:01\r\u001b[K     |█████                           | 204kB 9.4MB/s eta 0:00:01\r\u001b[K     |█████▎                          | 215kB 9.4MB/s eta 0:00:01\r\u001b[K     |█████▌                          | 225kB 9.4MB/s eta 0:00:01\r\u001b[K     |█████▉                          | 235kB 9.4MB/s eta 0:00:01\r\u001b[K     |██████                          | 245kB 9.4MB/s eta 0:00:01\r\u001b[K     |██████▎                         | 256kB 9.4MB/s eta 0:00:01\r\u001b[K     |██████▌                         | 266kB 9.4MB/s eta 0:00:01\r\u001b[K     |██████▉                         | 276kB 9.4MB/s eta 0:00:01\r\u001b[K     |███████                         | 286kB 9.4MB/s eta 0:00:01\r\u001b[K     |███████▎                        | 296kB 9.4MB/s eta 0:00:01\r\u001b[K     |███████▋                        | 307kB 9.4MB/s eta 0:00:01\r\u001b[K     |███████▉                        | 317kB 9.4MB/s eta 0:00:01\r\u001b[K     |████████                        | 327kB 9.4MB/s eta 0:00:01\r\u001b[K     |████████▎                       | 337kB 9.4MB/s eta 0:00:01\r\u001b[K     |████████▋                       | 348kB 9.4MB/s eta 0:00:01\r\u001b[K     |████████▉                       | 358kB 9.4MB/s eta 0:00:01\r\u001b[K     |█████████                       | 368kB 9.4MB/s eta 0:00:01\r\u001b[K     |█████████▎                      | 378kB 9.4MB/s eta 0:00:01\r\u001b[K     |█████████▋                      | 389kB 9.4MB/s eta 0:00:01\r\u001b[K     |█████████▉                      | 399kB 9.4MB/s eta 0:00:01\r\u001b[K     |██████████                      | 409kB 9.4MB/s eta 0:00:01\r\u001b[K     |██████████▎                     | 419kB 9.4MB/s eta 0:00:01\r\u001b[K     |██████████▋                     | 430kB 9.4MB/s eta 0:00:01\r\u001b[K     |██████████▉                     | 440kB 9.4MB/s eta 0:00:01\r\u001b[K     |███████████                     | 450kB 9.4MB/s eta 0:00:01\r\u001b[K     |███████████▍                    | 460kB 9.4MB/s eta 0:00:01\r\u001b[K     |███████████▋                    | 471kB 9.4MB/s eta 0:00:01\r\u001b[K     |███████████▉                    | 481kB 9.4MB/s eta 0:00:01\r\u001b[K     |████████████                    | 491kB 9.4MB/s eta 0:00:01\r\u001b[K     |████████████▍                   | 501kB 9.4MB/s eta 0:00:01\r\u001b[K     |████████████▋                   | 512kB 9.4MB/s eta 0:00:01\r\u001b[K     |████████████▉                   | 522kB 9.4MB/s eta 0:00:01\r\u001b[K     |█████████████                   | 532kB 9.4MB/s eta 0:00:01\r\u001b[K     |█████████████▍                  | 542kB 9.4MB/s eta 0:00:01\r\u001b[K     |█████████████▋                  | 552kB 9.4MB/s eta 0:00:01\r\u001b[K     |█████████████▉                  | 563kB 9.4MB/s eta 0:00:01\r\u001b[K     |██████████████                  | 573kB 9.4MB/s eta 0:00:01\r\u001b[K     |██████████████▍                 | 583kB 9.4MB/s eta 0:00:01\r\u001b[K     |██████████████▋                 | 593kB 9.4MB/s eta 0:00:01\r\u001b[K     |██████████████▉                 | 604kB 9.4MB/s eta 0:00:01\r\u001b[K     |███████████████▏                | 614kB 9.4MB/s eta 0:00:01\r\u001b[K     |███████████████▍                | 624kB 9.4MB/s eta 0:00:01\r\u001b[K     |███████████████▋                | 634kB 9.4MB/s eta 0:00:01\r\u001b[K     |███████████████▉                | 645kB 9.4MB/s eta 0:00:01\r\u001b[K     |████████████████▏               | 655kB 9.4MB/s eta 0:00:01\r\u001b[K     |████████████████▍               | 665kB 9.4MB/s eta 0:00:01\r\u001b[K     |████████████████▋               | 675kB 9.4MB/s eta 0:00:01\r\u001b[K     |████████████████▉               | 686kB 9.4MB/s eta 0:00:01\r\u001b[K     |█████████████████▏              | 696kB 9.4MB/s eta 0:00:01\r\u001b[K     |█████████████████▍              | 706kB 9.4MB/s eta 0:00:01\r\u001b[K     |█████████████████▋              | 716kB 9.4MB/s eta 0:00:01\r\u001b[K     |██████████████████              | 727kB 9.4MB/s eta 0:00:01\r\u001b[K     |██████████████████▏             | 737kB 9.4MB/s eta 0:00:01\r\u001b[K     |██████████████████▍             | 747kB 9.4MB/s eta 0:00:01\r\u001b[K     |██████████████████▋             | 757kB 9.4MB/s eta 0:00:01\r\u001b[K     |███████████████████             | 768kB 9.4MB/s eta 0:00:01\r\u001b[K     |███████████████████▏            | 778kB 9.4MB/s eta 0:00:01\r\u001b[K     |███████████████████▍            | 788kB 9.4MB/s eta 0:00:01\r\u001b[K     |███████████████████▋            | 798kB 9.4MB/s eta 0:00:01\r\u001b[K     |████████████████████            | 808kB 9.4MB/s eta 0:00:01\r\u001b[K     |████████████████████▏           | 819kB 9.4MB/s eta 0:00:01\r\u001b[K     |████████████████████▍           | 829kB 9.4MB/s eta 0:00:01\r\u001b[K     |████████████████████▋           | 839kB 9.4MB/s eta 0:00:01\r\u001b[K     |█████████████████████           | 849kB 9.4MB/s eta 0:00:01\r\u001b[K     |█████████████████████▏          | 860kB 9.4MB/s eta 0:00:01\r\u001b[K     |█████████████████████▍          | 870kB 9.4MB/s eta 0:00:01\r\u001b[K     |█████████████████████▊          | 880kB 9.4MB/s eta 0:00:01\r\u001b[K     |██████████████████████          | 890kB 9.4MB/s eta 0:00:01\r\u001b[K     |██████████████████████▏         | 901kB 9.4MB/s eta 0:00:01\r\u001b[K     |██████████████████████▍         | 911kB 9.4MB/s eta 0:00:01\r\u001b[K     |██████████████████████▊         | 921kB 9.4MB/s eta 0:00:01\r\u001b[K     |███████████████████████         | 931kB 9.4MB/s eta 0:00:01\r\u001b[K     |███████████████████████▏        | 942kB 9.4MB/s eta 0:00:01\r\u001b[K     |███████████████████████▍        | 952kB 9.4MB/s eta 0:00:01\r\u001b[K     |███████████████████████▊        | 962kB 9.4MB/s eta 0:00:01\r\u001b[K     |████████████████████████        | 972kB 9.4MB/s eta 0:00:01\r\u001b[K     |████████████████████████▏       | 983kB 9.4MB/s eta 0:00:01\r\u001b[K     |████████████████████████▍       | 993kB 9.4MB/s eta 0:00:01\r\u001b[K     |████████████████████████▊       | 1.0MB 9.4MB/s eta 0:00:01\r\u001b[K     |█████████████████████████       | 1.0MB 9.4MB/s eta 0:00:01\r\u001b[K     |█████████████████████████▏      | 1.0MB 9.4MB/s eta 0:00:01\r\u001b[K     |█████████████████████████▌      | 1.0MB 9.4MB/s eta 0:00:01\r\u001b[K     |█████████████████████████▊      | 1.0MB 9.4MB/s eta 0:00:01\r\u001b[K     |██████████████████████████      | 1.1MB 9.4MB/s eta 0:00:01\r\u001b[K     |██████████████████████████▏     | 1.1MB 9.4MB/s eta 0:00:01\r\u001b[K     |██████████████████████████▌     | 1.1MB 9.4MB/s eta 0:00:01\r\u001b[K     |██████████████████████████▊     | 1.1MB 9.4MB/s eta 0:00:01\r\u001b[K     |███████████████████████████     | 1.1MB 9.4MB/s eta 0:00:01\r\u001b[K     |███████████████████████████▏    | 1.1MB 9.4MB/s eta 0:00:01\r\u001b[K     |███████████████████████████▌    | 1.1MB 9.4MB/s eta 0:00:01\r\u001b[K     |███████████████████████████▊    | 1.1MB 9.4MB/s eta 0:00:01\r\u001b[K     |████████████████████████████    | 1.1MB 9.4MB/s eta 0:00:01\r\u001b[K     |████████████████████████████▏   | 1.1MB 9.4MB/s eta 0:00:01\r\u001b[K     |████████████████████████████▌   | 1.2MB 9.4MB/s eta 0:00:01\r\u001b[K     |████████████████████████████▊   | 1.2MB 9.4MB/s eta 0:00:01\r\u001b[K     |█████████████████████████████   | 1.2MB 9.4MB/s eta 0:00:01\r\u001b[K     |█████████████████████████████▎  | 1.2MB 9.4MB/s eta 0:00:01\r\u001b[K     |█████████████████████████████▌  | 1.2MB 9.4MB/s eta 0:00:01\r\u001b[K     |█████████████████████████████▊  | 1.2MB 9.4MB/s eta 0:00:01\r\u001b[K     |██████████████████████████████  | 1.2MB 9.4MB/s eta 0:00:01\r\u001b[K     |██████████████████████████████▎ | 1.2MB 9.4MB/s eta 0:00:01\r\u001b[K     |██████████████████████████████▌ | 1.2MB 9.4MB/s eta 0:00:01\r\u001b[K     |██████████████████████████████▊ | 1.2MB 9.4MB/s eta 0:00:01\r\u001b[K     |███████████████████████████████ | 1.3MB 9.4MB/s eta 0:00:01\r\u001b[K     |███████████████████████████████▎| 1.3MB 9.4MB/s eta 0:00:01\r\u001b[K     |███████████████████████████████▌| 1.3MB 9.4MB/s eta 0:00:01\r\u001b[K     |███████████████████████████████▊| 1.3MB 9.4MB/s eta 0:00:01\r\u001b[K     |████████████████████████████████| 1.3MB 9.4MB/s eta 0:00:01\r\u001b[K     |████████████████████████████████| 1.3MB 9.4MB/s \n",
            "\u001b[?25hRequirement already satisfied: regex!=2019.12.17 in /usr/local/lib/python3.6/dist-packages (from transformers) (2019.12.20)\n",
            "Requirement already satisfied: requests in /usr/local/lib/python3.6/dist-packages (from transformers) (2.23.0)\n",
            "Collecting sentencepiece==0.1.91\n",
            "\u001b[?25l  Downloading https://files.pythonhosted.org/packages/d4/a4/d0a884c4300004a78cca907a6ff9a5e9fe4f090f5d95ab341c53d28cbc58/sentencepiece-0.1.91-cp36-cp36m-manylinux1_x86_64.whl (1.1MB)\n",
            "\u001b[K     |████████████████████████████████| 1.1MB 35.6MB/s \n",
            "\u001b[?25hRequirement already satisfied: protobuf in /usr/local/lib/python3.6/dist-packages (from transformers) (3.12.4)\n",
            "Requirement already satisfied: numpy in /usr/local/lib/python3.6/dist-packages (from transformers) (1.18.5)\n",
            "Collecting sacremoses\n",
            "\u001b[?25l  Downloading https://files.pythonhosted.org/packages/7d/34/09d19aff26edcc8eb2a01bed8e98f13a1537005d31e95233fd48216eed10/sacremoses-0.0.43.tar.gz (883kB)\n",
            "\u001b[K     |████████████████████████████████| 890kB 35.2MB/s \n",
            "\u001b[?25hRequirement already satisfied: packaging in /usr/local/lib/python3.6/dist-packages (from transformers) (20.4)\n",
            "Collecting tokenizers==0.9.3\n",
            "\u001b[?25l  Downloading https://files.pythonhosted.org/packages/4c/34/b39eb9994bc3c999270b69c9eea40ecc6f0e97991dba28282b9fd32d44ee/tokenizers-0.9.3-cp36-cp36m-manylinux1_x86_64.whl (2.9MB)\n",
            "\u001b[K     |████████████████████████████████| 2.9MB 40.2MB/s \n",
            "\u001b[?25hRequirement already satisfied: filelock in /usr/local/lib/python3.6/dist-packages (from transformers) (3.0.12)\n",
            "Requirement already satisfied: dataclasses; python_version < \"3.7\" in /usr/local/lib/python3.6/dist-packages (from transformers) (0.7)\n",
            "Requirement already satisfied: tqdm>=4.27 in /usr/local/lib/python3.6/dist-packages (from transformers) (4.41.1)\n",
            "Requirement already satisfied: urllib3!=1.25.0,!=1.25.1,<1.26,>=1.21.1 in /usr/local/lib/python3.6/dist-packages (from requests->transformers) (1.24.3)\n",
            "Requirement already satisfied: certifi>=2017.4.17 in /usr/local/lib/python3.6/dist-packages (from requests->transformers) (2020.6.20)\n",
            "Requirement already satisfied: chardet<4,>=3.0.2 in /usr/local/lib/python3.6/dist-packages (from requests->transformers) (3.0.4)\n",
            "Requirement already satisfied: idna<3,>=2.5 in /usr/local/lib/python3.6/dist-packages (from requests->transformers) (2.10)\n",
            "Requirement already satisfied: setuptools in /usr/local/lib/python3.6/dist-packages (from protobuf->transformers) (50.3.2)\n",
            "Requirement already satisfied: six>=1.9 in /usr/local/lib/python3.6/dist-packages (from protobuf->transformers) (1.15.0)\n",
            "Requirement already satisfied: click in /usr/local/lib/python3.6/dist-packages (from sacremoses->transformers) (7.1.2)\n",
            "Requirement already satisfied: joblib in /usr/local/lib/python3.6/dist-packages (from sacremoses->transformers) (0.17.0)\n",
            "Requirement already satisfied: pyparsing>=2.0.2 in /usr/local/lib/python3.6/dist-packages (from packaging->transformers) (2.4.7)\n",
            "Building wheels for collected packages: sacremoses\n",
            "  Building wheel for sacremoses (setup.py) ... \u001b[?25l\u001b[?25hdone\n",
            "  Created wheel for sacremoses: filename=sacremoses-0.0.43-cp36-none-any.whl size=893257 sha256=8a19215fcef5dc3dab349bb7224da37f2e58c709e09b17bc30b233d3837c55ae\n",
            "  Stored in directory: /root/.cache/pip/wheels/29/3c/fd/7ce5c3f0666dab31a50123635e6fb5e19ceb42ce38d4e58f45\n",
            "Successfully built sacremoses\n",
            "Installing collected packages: sentencepiece, sacremoses, tokenizers, transformers\n",
            "Successfully installed sacremoses-0.0.43 sentencepiece-0.1.91 tokenizers-0.9.3 transformers-3.5.0\n"
          ],
          "name": "stdout"
        }
      ]
    },
    {
      "cell_type": "code",
      "metadata": {
        "id": "NHj1plrV8Lfe"
      },
      "source": [
        "import os\n",
        "from typing import Tuple, List\n",
        "from functools import partial\n",
        "\n",
        "import pandas as pd\n",
        "import numpy as np\n",
        "import torch\n",
        "import torch.nn as nn\n",
        "import torch.optim as optim\n",
        "from torch.utils.data import Dataset, DataLoader, RandomSampler, SubsetRandomSampler\n",
        "from torch.nn.utils.rnn import pad_sequence\n",
        "from transformers import BertTokenizer, BertModel, AdamW, get_linear_schedule_with_warmup, BertPreTrainedModel\n",
        "from sklearn.model_selection import train_test_split\n",
        "from sklearn.metrics import roc_auc_score\n",
        "from tqdm import tqdm\n",
        "\n",
        "import sqlite3"
      ],
      "execution_count": null,
      "outputs": []
    },
    {
      "cell_type": "code",
      "metadata": {
        "id": "-WHep-FfDiZz",
        "outputId": "a7040e87-96b0-4aed-bc1b-16d460c2e923",
        "colab": {
          "base_uri": "https://localhost:8080/",
          "height": 67,
          "referenced_widgets": [
            "6ae06363487f4cf880be02cb0bb5825c",
            "3c4acc6329d242c69dcfb729679551b4",
            "aa2e399957cd4dafb8c8d29886dc63bb",
            "d93996c278f142298fade2ab294f16b3",
            "0017232c14324731895c6f26b720dacf",
            "5961464de6904c06bd70eed3125cd9ea",
            "371de2cad569437f9c1b17639db76f27",
            "037b003c90ff49fbaacf978f2e429fe8"
          ]
        }
      },
      "source": [
        "bert_model_name = 'bert-base-cased'\n",
        "device = torch.device('cpu')\n",
        "if torch.cuda.is_available():\n",
        "    device = torch.device('cuda:0')\n",
        "tokenizer = BertTokenizer.from_pretrained(bert_model_name)\n",
        "assert tokenizer.pad_token_id == 0, \"Padding value used in masks is set to zero, please change it everywhere\""
      ],
      "execution_count": null,
      "outputs": [
        {
          "output_type": "display_data",
          "data": {
            "application/vnd.jupyter.widget-view+json": {
              "model_id": "6ae06363487f4cf880be02cb0bb5825c",
              "version_minor": 0,
              "version_major": 2
            },
            "text/plain": [
              "HBox(children=(FloatProgress(value=0.0, description='Downloading', max=213450.0, style=ProgressStyle(descripti…"
            ]
          },
          "metadata": {
            "tags": []
          }
        },
        {
          "output_type": "stream",
          "text": [
            "\n"
          ],
          "name": "stdout"
        }
      ]
    },
    {
      "cell_type": "code",
      "metadata": {
        "id": "HDEzCxY_DFYY"
      },
      "source": [
        "class BertClassifier(nn.Module):\n",
        "    \n",
        "    def __init__(self, bert: BertModel, num_classes: int):\n",
        "        super().__init__()\n",
        "        self.bert = bert\n",
        "        self.classifier = nn.Linear(bert.config.hidden_size, num_classes)\n",
        "        \n",
        "    def forward(self, input_ids, attention_mask=None, token_type_ids=None, position_ids=None, head_mask=None,\n",
        "                \n",
        "            labels=None):\n",
        "        outputs = self.bert(input_ids,\n",
        "                               attention_mask=attention_mask,\n",
        "                               token_type_ids=token_type_ids,\n",
        "                               position_ids=position_ids,\n",
        "                               head_mask=head_mask)\n",
        "        cls_output = outputs[1] # batch, hidden\n",
        "        cls_output = self.classifier(cls_output) # batch, 6\n",
        "        cls_output = torch.sigmoid(cls_output)\n",
        "        criterion = nn.BCELoss()\n",
        "        loss = 0\n",
        "        if labels is not None:\n",
        "            loss = criterion(cls_output, labels)\n",
        "        return loss, cls_output"
      ],
      "execution_count": null,
      "outputs": []
    },
    {
      "cell_type": "markdown",
      "metadata": {
        "id": "AC9p4KVjpB6r"
      },
      "source": [
        "## Multi-class"
      ]
    },
    {
      "cell_type": "code",
      "metadata": {
        "id": "XieFagx18i_j"
      },
      "source": [
        "def predict(input_string, model_path, predict_proba=False):\n",
        "    model = torch.load(model_path, map_location=torch.device('cpu'))\n",
        "    texts = []\n",
        "    text = tokenizer.encode(input_string, add_special_tokens=True)\n",
        "    if len(text) > 120:\n",
        "        text = text[:119] + [tokenizer.sep_token_id]\n",
        "    texts.append(torch.LongTensor(text))\n",
        "    x = pad_sequence(texts, batch_first=True, padding_value=tokenizer.pad_token_id).to(device)\n",
        "    mask = (x != tokenizer.pad_token_id).float().to(device)\n",
        "    with torch.no_grad():\n",
        "        _, outputs = model(x, attention_mask=mask)\n",
        "    pred = np.argmax(outputs.cpu().numpy())\n",
        "    columns = ['toxic', 'severe_toxic', 'obscene', 'threat', 'insult', 'identity_hate']\n",
        "    if predict_proba:\n",
        "        return outputs\n",
        "    else:\n",
        "        return columns[pred]"
      ],
      "execution_count": null,
      "outputs": []
    },
    {
      "cell_type": "code",
      "metadata": {
        "id": "ozIyO6mlCaNj",
        "outputId": "731e8edf-ed2a-4b5d-d153-5f3286020a9e",
        "colab": {
          "base_uri": "https://localhost:8080/",
          "height": 36
        }
      },
      "source": [
        "path = \"/content/drive/My Drive/Module 3 shared folder/model.pt\"\n",
        "input_string = \"I think you are a poor jewish moron\"\n",
        "\n",
        "predict(input_string, path)"
      ],
      "execution_count": null,
      "outputs": [
        {
          "output_type": "execute_result",
          "data": {
            "application/vnd.google.colaboratory.intrinsic+json": {
              "type": "string"
            },
            "text/plain": [
              "'toxic'"
            ]
          },
          "metadata": {
            "tags": []
          },
          "execution_count": 21
        }
      ]
    },
    {
      "cell_type": "markdown",
      "metadata": {
        "id": "dv6oovGApFRp"
      },
      "source": [
        "## Binary class"
      ]
    },
    {
      "cell_type": "code",
      "metadata": {
        "id": "LSTBUcx-Cm8t"
      },
      "source": [
        "def predict_binary(input_string, model, predict_proba=False, threshold=.7):\n",
        "    texts = []\n",
        "    text = tokenizer.encode(input_string, add_special_tokens=True)\n",
        "    if len(text) > 120:\n",
        "        text = text[:119] + [tokenizer.sep_token_id]\n",
        "    texts.append(torch.LongTensor(text))\n",
        "    x = pad_sequence(texts, batch_first=True, padding_value=tokenizer.pad_token_id).to(device)\n",
        "    mask = (x != tokenizer.pad_token_id).float().to(device)\n",
        "    with torch.no_grad():\n",
        "        _, outputs = model(x, attention_mask=mask)\n",
        "    prob_toxic = outputs.cpu().numpy()[0][0]\n",
        "    if predict_proba:\n",
        "        return prob_toxic\n",
        "    else:\n",
        "        if prob_toxic >= threshold:\n",
        "            return \"toxic\"\n",
        "        else:\n",
        "            return \"non-toxic\""
      ],
      "execution_count": null,
      "outputs": []
    },
    {
      "cell_type": "code",
      "metadata": {
        "id": "lvvJ6kV8tp2-"
      },
      "source": [
        "path = \"/content/drive/My Drive/Module 3 shared folder/bert_2_classes.pth\"\n",
        "model = torch.load(path, map_location=torch.device('cpu'))"
      ],
      "execution_count": null,
      "outputs": []
    },
    {
      "cell_type": "code",
      "metadata": {
        "id": "UwgqU9vfqEWW",
        "outputId": "0b3a3ca4-0591-458b-fd89-71960948d8e0",
        "colab": {
          "base_uri": "https://localhost:8080/"
        }
      },
      "source": [
        "input_string = \"I think you are a poor jewish moron\"\n",
        "input_string2= \"I really liked this particular subject\"\n",
        "input_string3= \"Maybe your mom forgot to tell you this but I don't worry I will. You do not deserve to live.\"\n",
        "input_string4= \"This is quite ambiguous. I hoped I would find more accurate information here but I did not. This website is not that good after all.\"\n",
        "\n",
        "predict_binary(input_string4, model, predict_proba=True)"
      ],
      "execution_count": null,
      "outputs": [
        {
          "output_type": "execute_result",
          "data": {
            "text/plain": [
              "0.000109714594"
            ]
          },
          "metadata": {
            "tags": []
          },
          "execution_count": 32
        }
      ]
    },
    {
      "cell_type": "code",
      "metadata": {
        "id": "rUXhEjvVqTba"
      },
      "source": [
        ""
      ],
      "execution_count": null,
      "outputs": []
    }
  ]
}